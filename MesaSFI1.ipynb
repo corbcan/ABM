{
  "nbformat": 4,
  "nbformat_minor": 0,
  "metadata": {
    "colab": {
      "provenance": [],
      "authorship_tag": "ABX9TyNDQUDxbqGG3wLK30LFvXSz",
      "include_colab_link": true
    },
    "kernelspec": {
      "name": "python3",
      "display_name": "Python 3"
    },
    "language_info": {
      "name": "python"
    }
  },
  "cells": [
    {
      "cell_type": "markdown",
      "metadata": {
        "id": "view-in-github",
        "colab_type": "text"
      },
      "source": [
        "<a href=\"https://colab.research.google.com/github/corbcan/ABM/blob/main/MesaSFI1.ipynb\" target=\"_parent\"><img src=\"https://colab.research.google.com/assets/colab-badge.svg\" alt=\"Open In Colab\"/></a>"
      ]
    },
    {
      "cell_type": "markdown",
      "source": [
        "# Import Dependencies"
      ],
      "metadata": {
        "id": "P4QF0mpFGlSX"
      }
    },
    {
      "cell_type": "code",
      "execution_count": null,
      "metadata": {
        "id": "NM4aFJjcGIuH"
      },
      "outputs": [],
      "source": [
        "!pip install mesa"
      ]
    },
    {
      "cell_type": "code",
      "source": [
        "import mesa"
      ],
      "metadata": {
        "id": "Y8Cd1bdbGh5e"
      },
      "execution_count": null,
      "outputs": []
    },
    {
      "cell_type": "markdown",
      "source": [
        "# Resource Classes"
      ],
      "metadata": {
        "id": "UX_RKvGKG0Dt"
      }
    },
    {
      "cell_type": "code",
      "source": [
        "class Sugar(mesa.Agent):\n",
        "  '''\n",
        "  Sugar:\n",
        "  - agent that contains an amount of sugar\n",
        "  - grows 1 unit of sugar each turn\n",
        "  '''\n",
        "\n",
        "  def __init__(self):\n",
        "    print(\"I am sugar\")\n",
        "\n",
        "class Spice(mesa.Agent):\n",
        "  '''\n",
        "  Spice:\n",
        "  - agent that contains a quantity of spice\n",
        "  - grows 1 unit of spice each turn\n",
        "  '''\n",
        "\n",
        "  def __init__(self):\n",
        "    print(\"I am spice\")"
      ],
      "metadata": {
        "id": "Sy1wDtnIG-eE"
      },
      "execution_count": null,
      "outputs": []
    },
    {
      "cell_type": "markdown",
      "source": [
        "# Trader Class"
      ],
      "metadata": {
        "id": "dbNSUdWnI_6A"
      }
    },
    {
      "cell_type": "code",
      "source": [
        "class Trader(mesa.Agent):\n",
        "  '''\n",
        "  Trader:\n",
        "  - has a metabolism for sugar and spice\n",
        "  - harvest and trades sugar and spice to survive and thrive\n",
        "  '''\n",
        "\n",
        "  def __init__(self):\n",
        "    print(\"I am a trader\")"
      ],
      "metadata": {
        "id": "YQ64D7hFJCUL"
      },
      "execution_count": null,
      "outputs": []
    },
    {
      "cell_type": "markdown",
      "source": [
        "# Model Class"
      ],
      "metadata": {
        "id": "t5MgEpcuKq_G"
      }
    },
    {
      "cell_type": "code",
      "source": [
        "class SugarscapeG1mt(mesa.Model):\n",
        "  '''\n",
        "  A model class to manage Sugarscape with Traders (G1mt)\n",
        "  from Growing Artificial Societies by Axtell and Epstein\n",
        "  '''\n",
        "\n",
        "  def __init__(self):\n",
        "    self.spice = Spice()\n",
        "    self.sugar = Sugar()\n",
        "    self.trader = Trader()\n",
        "\n",
        "\n",
        "model = SugarscapeG1mt()"
      ],
      "metadata": {
        "colab": {
          "base_uri": "https://localhost:8080/"
        },
        "id": "xqrKQ-UXKsvl",
        "outputId": "31af610c-e151-45fa-dca7-f0cd555869c6"
      },
      "execution_count": null,
      "outputs": [
        {
          "output_type": "stream",
          "name": "stdout",
          "text": [
            "I am spice\n",
            "I am sugar\n",
            "I am a trader\n"
          ]
        }
      ]
    }
  ]
}